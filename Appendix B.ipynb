{
 "cells": [
  {
   "cell_type": "markdown",
   "metadata": {},
   "source": [
    "# Massey Matrix"
   ]
  },
  {
   "cell_type": "markdown",
   "metadata": {},
   "source": [
    "### Outline\n",
    "- Weighting Calculations\n",
    "- Importing Data\n",
    "- Building Massey Matrix\n",
    "- Solving matrix\n",
    "- Ranking"
   ]
  },
  {
   "cell_type": "code",
   "execution_count": 1,
   "metadata": {},
   "outputs": [],
   "source": [
    "import pandas as pd \n",
    "import scipy\n",
    "import numpy as np"
   ]
  },
  {
   "cell_type": "markdown",
   "metadata": {},
   "source": [
    "## Weighting Calculations\n",
    "We use the logistic function to weight tournements, so early tournements have a smaller influence and more recent tournements have a larger influence. \n",
    "\n",
    "We also increase the weight of previous majors, and further increase previous masters.\n",
    "\n",
    "The weighting of tournments vary as follows:\n",
    "+ Normal tournement: (.1, .5)\n",
    "+ Non-Masters majors: (..2 : .7)\n",
    "+ Masters: (.6, 1.2)"
   ]
  },
  {
   "cell_type": "code",
   "execution_count": 2,
   "metadata": {},
   "outputs": [],
   "source": [
    "MAJORS_IDS = {\"2010\" : [797, 798, 799],\n",
    "            \"2011\" : [981, 982, 983],\n",
    "             \"2012\" : [1013, 1017, 1018], \n",
    "              \"2013\" : [1200, 1204, 1206], \n",
    "              \"2014\" : [1325, 1329, 1330], \n",
    "              \"2015\" : [2249, 2253, 2255], \n",
    "              \"2016\" : [2501, 2505, 2507], \n",
    "              \"2017\" : [3066, 2710, 2712], \n",
    "              \"2018\" : [401025255, 401025259, 401025263], \n",
    "              \"2019\" : [401056552, 401056556, 401056547], \n",
    "              \"2020\" : [], \n",
    "             }\n",
    "MASTERS_IDS = {\"2010\" : 774, \n",
    "              \"2011\" : 980,\n",
    "             \"2012\" : 1005, \n",
    "              \"2013\" : 1192, \n",
    "              \"2014\" : 1317, \n",
    "              \"2015\" : 2241, \n",
    "              \"2016\" : 2493, \n",
    "              \"2017\" : 2700, \n",
    "              \"2018\" : 401025221, \n",
    "              \"2019\" : 401056527, \n",
    "              \"2020\" : 0, \n",
    "              }\n"
   ]
  },
  {
   "cell_type": "markdown",
   "metadata": {},
   "source": [
    "These functions calculate the weight for each tournement. "
   ]
  },
  {
   "cell_type": "code",
   "execution_count": 3,
   "metadata": {},
   "outputs": [],
   "source": [
    "from scipy.special import expit\n",
    "def sigmoid_x_map(num):\n",
    "    '''Maps an integer x (0, 10) to (-6, 6)'''\n",
    "    return -6 + ((num/10) * 12)\n",
    "\n",
    "def year_int(year):\n",
    "    return int(year[-2:]) - 10\n",
    "\n",
    "def masters(year):\n",
    "    '''-6 < year < 6'''\n",
    "    return (.6 + .4 * expit(year))\n",
    "def major(year):\n",
    "    return (.2 + .5 * expit(year))\n",
    "def non_major(year):\n",
    "    return (.1 + .4 * expit(year))\n",
    "\n",
    "def get_weight(year, tourn_id):\n",
    "    num = year_int(year)\n",
    "    if tourn_id == MASTERS_IDS[year]:\n",
    "        x = sigmoid_x_map(num)\n",
    "        return masters(x)\n",
    "    elif tourn_id in MAJORS_IDS[year]:\n",
    "        x = sigmoid_x_map(num)\n",
    "        return major(x)\n",
    "    else:\n",
    "        x = sigmoid_x_map(num)\n",
    "        return non_major(x)\n",
    "    \n"
   ]
  },
  {
   "cell_type": "code",
   "execution_count": 5,
   "metadata": {},
   "outputs": [
    {
     "data": {
      "image/png": "[encoded data removed]",
      "text/plain": [
       "<Figure size 432x288 with 1 Axes>"
      ]
     },
     "metadata": {
      "needs_background": "light"
     },
     "output_type": "display_data"
    }
   ],
   "source": [
    "import matplotlib.pyplot as plt\n",
    "years = ['2010', '2011', '2012', '2013', '2014', '2015',\n",
    "         '2016', '2017', '2018', '2019', '2020']\n",
    "x = np.array([sigmoid_x_map(year_int(x)) for x in years])\n",
    "masters_weights =  masters(x)\n",
    "majors_weights =  major(x)\n",
    "non_majors_weights = non_major(x)\n",
    "fig = plt.figure()\n",
    "fig.suptitle('Tournement Weights')\n",
    "plt.xlabel('Year')\n",
    "plt.ylabel('Weight')\n",
    "plt.plot(years, masters_weights, color='green', label='Masters')\n",
    "plt.plot(years, majors_weights, color='blue', label='Major')\n",
    "plt.plot(years, non_majors_weights, color='red', label='Non-Major')\n",
    "plt.legend()\n",
    "plt.savefig(\"weights.jpg\", quality=95, format=\"jpg\")\n",
    "plt.show()"
   ]
  },
  {
   "cell_type": "markdown",
   "metadata": {},
   "source": [
    "## Import previously scraped data\n",
    "\n",
    "Within the data folder, there is a subfolder for each year. Each year folder contains csv files with player data for each tournement. The name of the folder is the tournemnet ID from ESPN (found in the URL)."
   ]
  },
  {
   "cell_type": "markdown",
   "metadata": {},
   "source": [
    "Open every file in each year folder and save them as a Pandas dataframe. \n",
    "Put each dataframe in a dictionary with its specific weight based on the year and type of tournement.\n"
   ]
  },
  {
   "cell_type": "code",
   "execution_count": 6,
   "metadata": {},
   "outputs": [],
   "source": [
    "import os\n",
    "dfs = {}\n",
    "weights = []\n",
    "for year in os.listdir('data'):\n",
    "    if year[0] == '2':\n",
    "        # if the file is a year (there are some other files in the folder)\n",
    "        dfs[year] = []\n",
    "        for file in os.listdir('data/' + year):\n",
    "            # Note: file = tournementID\n",
    "            weight = get_weight(year, file)\n",
    "            df = pd.read_csv('data/' + year + '/' +file).set_index(\"PLAYER\")\n",
    "            old_len = len(df)\n",
    "            df = df.drop_duplicates()\n",
    "            if len(df) != old_len:\n",
    "                pass\n",
    "            dfs[year].append((df, weight))\n"
   ]
  },
  {
   "cell_type": "markdown",
   "metadata": {},
   "source": [
    "Example Dataframe of one tournement. We will only be using the columns of each round (R1 - R4). Notice that not all players play all rounds. Some withdraw or are cut. "
   ]
  },
  {
   "cell_type": "code",
   "execution_count": 7,
   "metadata": {},
   "outputs": [
    {
     "data": {
      "text/html": [
       "<div>\n",
       "<style scoped>\n",
       "    .dataframe tbody tr th:only-of-type {\n",
       "        vertical-align: middle;\n",
       "    }\n",
       "\n",
       "    .dataframe tbody tr th {\n",
       "        vertical-align: top;\n",
       "    }\n",
       "\n",
       "    .dataframe thead th {\n",
       "        text-align: right;\n",
       "    }\n",
       "</style>\n",
       "<table border=\"1\" class=\"dataframe\">\n",
       "  <thead>\n",
       "    <tr style=\"text-align: right;\">\n",
       "      <th></th>\n",
       "      <th>POS</th>\n",
       "      <th>TO PAR</th>\n",
       "      <th>R1</th>\n",
       "      <th>R2</th>\n",
       "      <th>R3</th>\n",
       "      <th>R4</th>\n",
       "      <th>TOT</th>\n",
       "      <th>EARNINGS</th>\n",
       "      <th>FEDEX PTS</th>\n",
       "    </tr>\n",
       "    <tr>\n",
       "      <th>PLAYER</th>\n",
       "      <th></th>\n",
       "      <th></th>\n",
       "      <th></th>\n",
       "      <th></th>\n",
       "      <th></th>\n",
       "      <th></th>\n",
       "      <th></th>\n",
       "      <th></th>\n",
       "      <th></th>\n",
       "    </tr>\n",
       "  </thead>\n",
       "  <tbody>\n",
       "    <tr>\n",
       "      <th>Branden Grace</th>\n",
       "      <td>1</td>\n",
       "      <td>-9</td>\n",
       "      <td>66.0</td>\n",
       "      <td>74.0</td>\n",
       "      <td>69.0</td>\n",
       "      <td>66.0</td>\n",
       "      <td>275</td>\n",
       "      <td>$1,062,000</td>\n",
       "      <td>500</td>\n",
       "    </tr>\n",
       "    <tr>\n",
       "      <th>Russell Knox</th>\n",
       "      <td>T2</td>\n",
       "      <td>-7</td>\n",
       "      <td>72.0</td>\n",
       "      <td>65.0</td>\n",
       "      <td>73.0</td>\n",
       "      <td>67.0</td>\n",
       "      <td>277</td>\n",
       "      <td>$519,200</td>\n",
       "      <td>245</td>\n",
       "    </tr>\n",
       "  </tbody>\n",
       "</table>\n",
       "</div>"
      ],
      "text/plain": [
       "              POS TO PAR    R1    R2    R3    R4  TOT    EARNINGS  FEDEX PTS\n",
       "PLAYER                                                                      \n",
       "Branden Grace   1     -9  66.0  74.0  69.0  66.0  275  $1,062,000        500\n",
       "Russell Knox   T2     -7  72.0  65.0  73.0  67.0  277    $519,200        245"
      ]
     },
     "execution_count": 7,
     "metadata": {},
     "output_type": "execute_result"
    }
   ],
   "source": [
    "df.head(2)"
   ]
  },
  {
   "cell_type": "code",
   "execution_count": 8,
   "metadata": {},
   "outputs": [
    {
     "data": {
      "text/html": [
       "<div>\n",
       "<style scoped>\n",
       "    .dataframe tbody tr th:only-of-type {\n",
       "        vertical-align: middle;\n",
       "    }\n",
       "\n",
       "    .dataframe tbody tr th {\n",
       "        vertical-align: top;\n",
       "    }\n",
       "\n",
       "    .dataframe thead th {\n",
       "        text-align: right;\n",
       "    }\n",
       "</style>\n",
       "<table border=\"1\" class=\"dataframe\">\n",
       "  <thead>\n",
       "    <tr style=\"text-align: right;\">\n",
       "      <th></th>\n",
       "      <th>POS</th>\n",
       "      <th>TO PAR</th>\n",
       "      <th>R1</th>\n",
       "      <th>R2</th>\n",
       "      <th>R3</th>\n",
       "      <th>R4</th>\n",
       "      <th>TOT</th>\n",
       "      <th>EARNINGS</th>\n",
       "      <th>FEDEX PTS</th>\n",
       "    </tr>\n",
       "    <tr>\n",
       "      <th>PLAYER</th>\n",
       "      <th></th>\n",
       "      <th></th>\n",
       "      <th></th>\n",
       "      <th></th>\n",
       "      <th></th>\n",
       "      <th></th>\n",
       "      <th></th>\n",
       "      <th></th>\n",
       "      <th></th>\n",
       "    </tr>\n",
       "  </thead>\n",
       "  <tbody>\n",
       "    <tr>\n",
       "      <th>J.J. Henry</th>\n",
       "      <td>-</td>\n",
       "      <td>CUT</td>\n",
       "      <td>74.0</td>\n",
       "      <td>80.0</td>\n",
       "      <td>NaN</td>\n",
       "      <td>NaN</td>\n",
       "      <td>154</td>\n",
       "      <td>--</td>\n",
       "      <td>0</td>\n",
       "    </tr>\n",
       "    <tr>\n",
       "      <th>Tommy Gainey</th>\n",
       "      <td>-</td>\n",
       "      <td>WD</td>\n",
       "      <td>69.0</td>\n",
       "      <td>NaN</td>\n",
       "      <td>NaN</td>\n",
       "      <td>NaN</td>\n",
       "      <td>69</td>\n",
       "      <td>--</td>\n",
       "      <td>0</td>\n",
       "    </tr>\n",
       "    <tr>\n",
       "      <th>Harris English</th>\n",
       "      <td>-</td>\n",
       "      <td>WD</td>\n",
       "      <td>77.0</td>\n",
       "      <td>NaN</td>\n",
       "      <td>NaN</td>\n",
       "      <td>NaN</td>\n",
       "      <td>77</td>\n",
       "      <td>--</td>\n",
       "      <td>0</td>\n",
       "    </tr>\n",
       "    <tr>\n",
       "      <th>Mike Weir</th>\n",
       "      <td>-</td>\n",
       "      <td>WD</td>\n",
       "      <td>78.0</td>\n",
       "      <td>NaN</td>\n",
       "      <td>NaN</td>\n",
       "      <td>NaN</td>\n",
       "      <td>78</td>\n",
       "      <td>--</td>\n",
       "      <td>0</td>\n",
       "    </tr>\n",
       "    <tr>\n",
       "      <th>Erik Compton</th>\n",
       "      <td>-</td>\n",
       "      <td>WD</td>\n",
       "      <td>81.0</td>\n",
       "      <td>NaN</td>\n",
       "      <td>NaN</td>\n",
       "      <td>NaN</td>\n",
       "      <td>81</td>\n",
       "      <td>--</td>\n",
       "      <td>0</td>\n",
       "    </tr>\n",
       "  </tbody>\n",
       "</table>\n",
       "</div>"
      ],
      "text/plain": [
       "               POS TO PAR    R1    R2  R3  R4  TOT EARNINGS  FEDEX PTS\n",
       "PLAYER                                                                \n",
       "J.J. Henry       -    CUT  74.0  80.0 NaN NaN  154       --          0\n",
       "Tommy Gainey     -     WD  69.0   NaN NaN NaN   69       --          0\n",
       "Harris English   -     WD  77.0   NaN NaN NaN   77       --          0\n",
       "Mike Weir        -     WD  78.0   NaN NaN NaN   78       --          0\n",
       "Erik Compton     -     WD  81.0   NaN NaN NaN   81       --          0"
      ]
     },
     "execution_count": 8,
     "metadata": {},
     "output_type": "execute_result"
    }
   ],
   "source": [
    "df.tail(5)"
   ]
  },
  {
   "cell_type": "markdown",
   "metadata": {},
   "source": [
    "Next, we remove all of the amateurs and people who withdrew or were disqualified from the dataset.\n",
    "\n",
    "When a player withdraws, they get a score of whatever they had when they withdrew—42 through 9 holes, for example— so it looks like the got a 42 on the round and beat everybody.\n",
    "\n",
    "People who were cut after two days are still in the dataset. They are considered to play a \"game\" against every other player on the first two days, but not on the last two. Including rounds not played as losses would extrapolate poor performance on the first two days to the last two days, which would introduce bias. "
   ]
  },
  {
   "cell_type": "code",
   "execution_count": 9,
   "metadata": {
    "collapsed": true,
    "jupyter": {
     "outputs_hidden": true
    }
   },
   "outputs": [
    {
     "name": "stderr",
     "output_type": "stream",
     "text": [
      "/Users/chrisamoroso/Library/Python/3.7/lib/python/site-packages/ipykernel_launcher.py:11: SettingWithCopyWarning: \n",
      "A value is trying to be set on a copy of a slice from a DataFrame.\n",
      "Try using .loc[row_indexer,col_indexer] = value instead\n",
      "\n",
      "See the caveats in the documentation: http://pandas.pydata.org/pandas-docs/stable/indexing.html#indexing-view-versus-copy\n",
      "  # This is added back by InteractiveShellApp.init_path()\n"
     ]
    }
   ],
   "source": [
    "clean_data = {}\n",
    "for year in dfs: \n",
    "    clean_data[year] = []\n",
    "    for df, weight in dfs[year]:\n",
    "        split_names = [] \n",
    "        for player in df.index: \n",
    "            split_names.append(player.split(' '))\n",
    "        df['name_arr'] = split_names \n",
    "        df['pro'] = df['name_arr'].apply(lambda arr : arr[-1] != '(a)')\n",
    "        df = df[df.pro]\n",
    "        df['finished'] = df['TO PAR'].apply(lambda s : s != \"WD\" and s != \"DQ\")\n",
    "        df = df[df.finished]\n",
    "        clean_data[year].append((df, weight))"
   ]
  },
  {
   "cell_type": "markdown",
   "metadata": {},
   "source": [
    "## Building Massey Matrix\n",
    "\n",
    "To validate our results, we are test the algorithm with one tournement. For simplicity, we used the first one in the dataset. The matrix is saved in a dataframe named Massey_A."
   ]
  },
  {
   "cell_type": "code",
   "execution_count": 10,
   "metadata": {},
   "outputs": [],
   "source": [
    "def add_dicts(s1, s2):\n",
    "    '''Function that adds the values of two dictionaries by key'''\n",
    "    result = {}\n",
    "    for name in s1:\n",
    "        if name in s2: \n",
    "            result[name] = s1[name] + s2[name]\n",
    "        else: \n",
    "            result[name] = s1[name]\n",
    "            \n",
    "    for name in s2: \n",
    "        if name not in s1:\n",
    "            result[name] = s2[name]\n",
    "    return result\n"
   ]
  },
  {
   "cell_type": "code",
   "execution_count": 14,
   "metadata": {},
   "outputs": [],
   "source": [
    "player_dict = {}\n",
    "massey_dict = {}\n",
    "for year in clean_data:\n",
    "    for df, weight in clean_data[year]:\n",
    "        all_rounds = df[['R1', 'R2', 'R3', 'R4']].values.T\n",
    "        rows = []\n",
    "        for i, name in enumerate(df.index): \n",
    "            player_rounds = df.loc[name, ['R1', 'R2', 'R3', 'R4']].values\n",
    "            if len(player_rounds) == 2:\n",
    "                print(player_rounds)\n",
    "                print(name)\n",
    "                print(df)\n",
    "                break\n",
    "            try:\n",
    "                player_rounds = player_rounds.reshape(4, 1)\n",
    "            except: \n",
    "                player_rounds = player_rounds[0].reshape(4, 1)\n",
    "            #difference between scores per round\n",
    "            # positive implies a win, negative is a loss\n",
    "            win_diff = all_rounds - player_rounds                \n",
    "\n",
    "            # Number of \"games\" against each \n",
    "            # player in the tournement\n",
    "            total_matches_arr = pd.notnull(win_diff).sum(axis=0) \n",
    "            # Number of games against yourself is 0\n",
    "            total_matches_arr[i] = 0\n",
    "            total_matches = total_matches_arr.sum()\n",
    "\n",
    "            #massey method \n",
    "            # weighted number of matches against each person\n",
    "            weighted_total_matches = total_matches_arr*weight\n",
    "            where_are_NaNs = pd.isnull(win_diff)\n",
    "            win_diff[where_are_NaNs] = 0\n",
    "            # Total win differential\n",
    "            massey_sum = win_diff.sum()\n",
    "            # APPLY WEIGHTING\n",
    "            weighted_massey_sum = massey_sum * weight\n",
    "            if name in massey_dict: \n",
    "                massey_dict[name] += weighted_massey_sum\n",
    "#                     massey_dict[name] += massey_sum\n",
    "            else:\n",
    "                massey_dict[name] = weighted_massey_sum\n",
    "\n",
    "            # Apply weighting to the number of matches agains other players\n",
    "            player_series = dict(zip(df.index, total_matches_arr*weight))\n",
    "\n",
    "            if name in player_dict:\n",
    "                player_dict[name] = add_dicts(player_series, player_dict[name])\n",
    "            else:\n",
    "                player_dict[name] = player_series\n",
    "                \n"
   ]
  },
  {
   "cell_type": "code",
   "execution_count": 15,
   "metadata": {},
   "outputs": [],
   "source": [
    "massey_A = pd.DataFrame(player_dict)\n",
    "massey_A = massey_A.reindex(massey_A.columns).fillna(0)*-1"
   ]
  },
  {
   "cell_type": "markdown",
   "metadata": {},
   "source": [
    "### Set the diagonal, bottom row, and right hand vector"
   ]
  },
  {
   "cell_type": "code",
   "execution_count": 16,
   "metadata": {},
   "outputs": [],
   "source": [
    "massey = pd.Series(massey_dict)\n",
    "rhv  = []\n",
    "for name in massey_A.index:\n",
    "#     append to right hand vector\n",
    "    score = massey.loc[name] \n",
    "    rhv.append(score)\n",
    "#     set the diagonal\n",
    "    player_sum = massey_A.loc[:,name].sum()\n",
    "    massey_A.loc[name, name] =-1* player_sum\n",
    "rhv = np.array(rhv)"
   ]
  },
  {
   "cell_type": "markdown",
   "metadata": {},
   "source": [
    "Save the matrix and the vector for future analysis"
   ]
  },
  {
   "cell_type": "code",
   "execution_count": 17,
   "metadata": {},
   "outputs": [],
   "source": [
    "massey_A.to_csv('massey.csv')\n",
    "massey.to_csv('rhv.csv', header=False)"
   ]
  },
  {
   "cell_type": "markdown",
   "metadata": {},
   "source": [
    "Set the bottom row of the matrix to all 1s and the last value in the vector to 0."
   ]
  },
  {
   "cell_type": "code",
   "execution_count": 18,
   "metadata": {},
   "outputs": [],
   "source": [
    "massey_A.iloc[-1] = [1]*len(massey_A.columns)\n",
    "rhv[-1] = 0"
   ]
  },
  {
   "cell_type": "markdown",
   "metadata": {},
   "source": [
    "## Solve the system\n",
    "\n",
    "We use least squares solution from scipy to solve the system. "
   ]
  },
  {
   "cell_type": "code",
   "execution_count": 19,
   "metadata": {},
   "outputs": [],
   "source": [
    "x = scipy.linalg.lstsq(massey_A.values, rhv)\n",
    "ratings = pd.DataFrame({'player' : massey_A.index, 'rating' : x[0]}).set_index('player')\n",
    "ratings = ratings.sort_values('rating', ascending=False)"
   ]
  },
  {
   "cell_type": "markdown",
   "metadata": {},
   "source": [
    "## Ranking\n",
    "Currently the ranking includes all golfers that played in a PGA tournement since 2010, so we need to reduce it to only the players in the 2020 Masters."
   ]
  },
  {
   "cell_type": "code",
   "execution_count": 20,
   "metadata": {},
   "outputs": [
    {
     "data": {
      "text/html": [
       "<div>\n",
       "<style scoped>\n",
       "    .dataframe tbody tr th:only-of-type {\n",
       "        vertical-align: middle;\n",
       "    }\n",
       "\n",
       "    .dataframe tbody tr th {\n",
       "        vertical-align: top;\n",
       "    }\n",
       "\n",
       "    .dataframe thead th {\n",
       "        text-align: right;\n",
       "    }\n",
       "</style>\n",
       "<table border=\"1\" class=\"dataframe\">\n",
       "  <thead>\n",
       "    <tr style=\"text-align: right;\">\n",
       "      <th></th>\n",
       "      <th>rating</th>\n",
       "    </tr>\n",
       "    <tr>\n",
       "      <th>player</th>\n",
       "      <th></th>\n",
       "    </tr>\n",
       "  </thead>\n",
       "  <tbody>\n",
       "    <tr>\n",
       "      <th>Rory McIlroy</th>\n",
       "      <td>4.528093</td>\n",
       "    </tr>\n",
       "    <tr>\n",
       "      <th>Jon Rahm</th>\n",
       "      <td>4.432874</td>\n",
       "    </tr>\n",
       "    <tr>\n",
       "      <th>Dustin Johnson</th>\n",
       "      <td>4.417170</td>\n",
       "    </tr>\n",
       "    <tr>\n",
       "      <th>Armando Favela</th>\n",
       "      <td>4.298809</td>\n",
       "    </tr>\n",
       "    <tr>\n",
       "      <th>Justin Rose</th>\n",
       "      <td>4.220091</td>\n",
       "    </tr>\n",
       "    <tr>\n",
       "      <th>Ignacio Garrido</th>\n",
       "      <td>4.194928</td>\n",
       "    </tr>\n",
       "    <tr>\n",
       "      <th>Robert MacIntyre</th>\n",
       "      <td>4.159393</td>\n",
       "    </tr>\n",
       "    <tr>\n",
       "      <th>Jason Day</th>\n",
       "      <td>4.122193</td>\n",
       "    </tr>\n",
       "    <tr>\n",
       "      <th>Hideki Matsuyama</th>\n",
       "      <td>4.095035</td>\n",
       "    </tr>\n",
       "    <tr>\n",
       "      <th>Patrick Cantlay</th>\n",
       "      <td>4.087429</td>\n",
       "    </tr>\n",
       "  </tbody>\n",
       "</table>\n",
       "</div>"
      ],
      "text/plain": [
       "                    rating\n",
       "player                    \n",
       "Rory McIlroy      4.528093\n",
       "Jon Rahm          4.432874\n",
       "Dustin Johnson    4.417170\n",
       "Armando Favela    4.298809\n",
       "Justin Rose       4.220091\n",
       "Ignacio Garrido   4.194928\n",
       "Robert MacIntyre  4.159393\n",
       "Jason Day         4.122193\n",
       "Hideki Matsuyama  4.095035\n",
       "Patrick Cantlay   4.087429"
      ]
     },
     "execution_count": 20,
     "metadata": {},
     "output_type": "execute_result"
    }
   ],
   "source": [
    "ratings.head(10)"
   ]
  },
  {
   "cell_type": "code",
   "execution_count": 21,
   "metadata": {},
   "outputs": [],
   "source": [
    "ratings.to_csv('ratings.csv')"
   ]
  },
  {
   "cell_type": "markdown",
   "metadata": {},
   "source": [
    "#### Read in the 2020 Masters Roster"
   ]
  },
  {
   "cell_type": "code",
   "execution_count": 22,
   "metadata": {},
   "outputs": [],
   "source": [
    "roster = pd.read_csv('2020_players.csv', header=None)\n",
    "roster.head()\n",
    "roster = roster[1].values"
   ]
  },
  {
   "cell_type": "code",
   "execution_count": 23,
   "metadata": {
    "collapsed": true,
    "jupyter": {
     "outputs_hidden": true
    }
   },
   "outputs": [
    {
     "name": "stderr",
     "output_type": "stream",
     "text": [
      "/Users/chrisamoroso/Library/Python/3.7/lib/python/site-packages/ipykernel_launcher.py:1: FutureWarning: \n",
      "Passing list-likes to .loc or [] with any missing label will raise\n",
      "KeyError in the future, you can use .reindex() as an alternative.\n",
      "\n",
      "See the documentation here:\n",
      "https://pandas.pydata.org/pandas-docs/stable/indexing.html#deprecate-loc-reindex-listlike\n",
      "  \"\"\"Entry point for launching an IPython kernel.\n"
     ]
    }
   ],
   "source": [
    "masters_ranks = ratings.loc[roster].sort_values('rating', ascending=False)"
   ]
  },
  {
   "cell_type": "code",
   "execution_count": 24,
   "metadata": {},
   "outputs": [
    {
     "data": {
      "text/html": [
       "<div>\n",
       "<style scoped>\n",
       "    .dataframe tbody tr th:only-of-type {\n",
       "        vertical-align: middle;\n",
       "    }\n",
       "\n",
       "    .dataframe tbody tr th {\n",
       "        vertical-align: top;\n",
       "    }\n",
       "\n",
       "    .dataframe thead th {\n",
       "        text-align: right;\n",
       "    }\n",
       "</style>\n",
       "<table border=\"1\" class=\"dataframe\">\n",
       "  <thead>\n",
       "    <tr style=\"text-align: right;\">\n",
       "      <th></th>\n",
       "      <th>rating</th>\n",
       "    </tr>\n",
       "    <tr>\n",
       "      <th>player</th>\n",
       "      <th></th>\n",
       "    </tr>\n",
       "  </thead>\n",
       "  <tbody>\n",
       "    <tr>\n",
       "      <th>Rory McIlroy</th>\n",
       "      <td>4.528093</td>\n",
       "    </tr>\n",
       "    <tr>\n",
       "      <th>Jon Rahm</th>\n",
       "      <td>4.432874</td>\n",
       "    </tr>\n",
       "    <tr>\n",
       "      <th>Dustin Johnson</th>\n",
       "      <td>4.417170</td>\n",
       "    </tr>\n",
       "    <tr>\n",
       "      <th>Justin Rose</th>\n",
       "      <td>4.220091</td>\n",
       "    </tr>\n",
       "    <tr>\n",
       "      <th>Jason Day</th>\n",
       "      <td>4.122193</td>\n",
       "    </tr>\n",
       "  </tbody>\n",
       "</table>\n",
       "</div>"
      ],
      "text/plain": [
       "                  rating\n",
       "player                  \n",
       "Rory McIlroy    4.528093\n",
       "Jon Rahm        4.432874\n",
       "Dustin Johnson  4.417170\n",
       "Justin Rose     4.220091\n",
       "Jason Day       4.122193"
      ]
     },
     "execution_count": 24,
     "metadata": {},
     "output_type": "execute_result"
    }
   ],
   "source": [
    "masters_ranks.head()"
   ]
  },
  {
   "cell_type": "code",
   "execution_count": 25,
   "metadata": {},
   "outputs": [],
   "source": [
    "masters_ranks.to_csv('masters_rankings.csv')"
   ]
  }
 ],
 "metadata": {
  "kernelspec": {
   "display_name": "Python 3.7.3 64-bit",
   "language": "python",
   "name": "python37364bit83672e45e57f42d584913006230dc130"
  },
  "language_info": {
   "codemirror_mode": {
    "name": "ipython",
    "version": 3
   },
   "file_extension": ".py",
   "mimetype": "text/x-python",
   "name": "python",
   "nbconvert_exporter": "python",
   "pygments_lexer": "ipython3",
   "version": "3.7.3"
  }
 },
 "nbformat": 4,
 "nbformat_minor": 4
}
