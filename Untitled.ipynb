{
 "cells": [
  {
   "cell_type": "code",
   "execution_count": 68,
   "metadata": {},
   "outputs": [],
   "source": [
    "import pandas as pd"
   ]
  },
  {
   "cell_type": "markdown",
   "metadata": {},
   "source": [
    "## Read in processed data\n",
    "- Massey Matrix\n",
    "- Right hand vector \n",
    "- ratings"
   ]
  },
  {
   "cell_type": "code",
   "execution_count": 108,
   "metadata": {},
   "outputs": [],
   "source": [
    "massey_A = pd.read_csv('massey.csv')\n",
    "new_columns = list(massey_A.columns)\n",
    "new_columns[0] = \"name\"\n",
    "massey_A.columns = new_columns\n",
    "massey_A = massey_A.set_index('name')"
   ]
  },
  {
   "cell_type": "code",
   "execution_count": 109,
   "metadata": {},
   "outputs": [],
   "source": [
    "rhv = pd.read_csv('rhv.csv', header=None)\n",
    "rhv.columns = ['name', 'differential']\n",
    "rhv = rhv.set_index('name')"
   ]
  },
  {
   "cell_type": "code",
   "execution_count": 110,
   "metadata": {},
   "outputs": [],
   "source": [
    "ratings = pd.read_csv('ratings.csv')"
   ]
  },
  {
   "cell_type": "code",
   "execution_count": 111,
   "metadata": {},
   "outputs": [],
   "source": [
    "ratings['differential'] = ratings['player'].apply(lambda name : rhv.loc[name])\n",
    "\n",
    "ratings['total_games'] = ratings['player'].apply(lambda name : massey_A.loc[name, name])\n",
    "ratings['average_margin'] = ratings['differential'] /ratings['total_games']\n"
   ]
  },
  {
   "cell_type": "code",
   "execution_count": 112,
   "metadata": {},
   "outputs": [
    {
     "data": {
      "text/html": [
       "<div>\n",
       "<style scoped>\n",
       "    .dataframe tbody tr th:only-of-type {\n",
       "        vertical-align: middle;\n",
       "    }\n",
       "\n",
       "    .dataframe tbody tr th {\n",
       "        vertical-align: top;\n",
       "    }\n",
       "\n",
       "    .dataframe thead th {\n",
       "        text-align: right;\n",
       "    }\n",
       "</style>\n",
       "<table border=\"1\" class=\"dataframe\">\n",
       "  <thead>\n",
       "    <tr style=\"text-align: right;\">\n",
       "      <th></th>\n",
       "      <th>player</th>\n",
       "      <th>rating</th>\n",
       "      <th>differential</th>\n",
       "      <th>total_games</th>\n",
       "      <th>average_margin</th>\n",
       "    </tr>\n",
       "  </thead>\n",
       "  <tbody>\n",
       "    <tr>\n",
       "      <th>0</th>\n",
       "      <td>Rory McIlroy</td>\n",
       "      <td>4.528093</td>\n",
       "      <td>25679.277936</td>\n",
       "      <td>13978.145302</td>\n",
       "      <td>1.837102</td>\n",
       "    </tr>\n",
       "    <tr>\n",
       "      <th>1</th>\n",
       "      <td>Jon Rahm</td>\n",
       "      <td>4.432874</td>\n",
       "      <td>18457.009561</td>\n",
       "      <td>10828.616755</td>\n",
       "      <td>1.704466</td>\n",
       "    </tr>\n",
       "    <tr>\n",
       "      <th>2</th>\n",
       "      <td>Dustin Johnson</td>\n",
       "      <td>4.417170</td>\n",
       "      <td>31244.038941</td>\n",
       "      <td>17317.889728</td>\n",
       "      <td>1.804148</td>\n",
       "    </tr>\n",
       "    <tr>\n",
       "      <th>3</th>\n",
       "      <td>Armando Favela</td>\n",
       "      <td>4.298809</td>\n",
       "      <td>317.413647</td>\n",
       "      <td>180.811530</td>\n",
       "      <td>1.755495</td>\n",
       "    </tr>\n",
       "    <tr>\n",
       "      <th>4</th>\n",
       "      <td>Justin Rose</td>\n",
       "      <td>4.220091</td>\n",
       "      <td>24668.061138</td>\n",
       "      <td>15693.413204</td>\n",
       "      <td>1.571874</td>\n",
       "    </tr>\n",
       "  </tbody>\n",
       "</table>\n",
       "</div>"
      ],
      "text/plain": [
       "           player    rating  differential   total_games  average_margin\n",
       "0    Rory McIlroy  4.528093  25679.277936  13978.145302        1.837102\n",
       "1        Jon Rahm  4.432874  18457.009561  10828.616755        1.704466\n",
       "2  Dustin Johnson  4.417170  31244.038941  17317.889728        1.804148\n",
       "3  Armando Favela  4.298809    317.413647    180.811530        1.755495\n",
       "4     Justin Rose  4.220091  24668.061138  15693.413204        1.571874"
      ]
     },
     "execution_count": 112,
     "metadata": {},
     "output_type": "execute_result"
    }
   ],
   "source": [
    "ratings.head()"
   ]
  },
  {
   "cell_type": "code",
   "execution_count": 113,
   "metadata": {},
   "outputs": [
    {
     "data": {
      "image/png": "[encoded data removed]",
      "text/plain": [
       "<Figure size 432x288 with 1 Axes>"
      ]
     },
     "metadata": {
      "needs_background": "light"
     },
     "output_type": "display_data"
    }
   ],
   "source": [
    "import matplotlib.pyplot as plt\n",
    "plt.plot(ratings['rating'], ratings['average_margin'])\n",
    "plt.show()"
   ]
  },
  {
   "cell_type": "code",
   "execution_count": 114,
   "metadata": {},
   "outputs": [],
   "source": [
    "roster = pd.read_csv('2020_players.csv', header=None)\n",
    "roster = list(roster.iloc[:,1])"
   ]
  },
  {
   "cell_type": "code",
   "execution_count": 115,
   "metadata": {},
   "outputs": [],
   "source": [
    "ratings = ratings.set_index('player')"
   ]
  },
  {
   "cell_type": "code",
   "execution_count": 129,
   "metadata": {},
   "outputs": [],
   "source": [
    "model_ranks = ratings.loc[roster]\n",
    "model_ranks = model_ranks.sort_values('rating', ascending=False)\n",
    "model_ranks = pd.Series(model_ranks.index)"
   ]
  },
  {
   "cell_type": "code",
   "execution_count": 116,
   "metadata": {},
   "outputs": [],
   "source": [
    "vegas_odds = pd.read_csv('vegas_odds.csv', header=None)"
   ]
  },
  {
   "cell_type": "code",
   "execution_count": 117,
   "metadata": {},
   "outputs": [],
   "source": [
    "vegas_odds.columns = ['player']"
   ]
  },
  {
   "cell_type": "code",
   "execution_count": 118,
   "metadata": {},
   "outputs": [],
   "source": [
    "vegas_odds['name'] = vegas_odds['player'].apply(lambda name : \" \".join(name.split(' ')[0:-1]))\n",
    "vegas_ranks = vegas_odds['name']"
   ]
  },
  {
   "cell_type": "code",
   "execution_count": null,
   "metadata": {},
   "outputs": [],
   "source": []
  },
  {
   "cell_type": "code",
   "execution_count": 143,
   "metadata": {},
   "outputs": [],
   "source": [
    "vegas_ranks = list(vegas_ranks)\n",
    "sq_differences = {}\n",
    "for i, name in enumerate(model_ranks):\n",
    "    try:\n",
    "        vegas_rank = vegas_ranks.index(name)\n",
    "    except:\n",
    "        continue\n",
    "    \n",
    "    sq_differences[name] = (i - vegas_rank)**2"
   ]
  },
  {
   "cell_type": "code",
   "execution_count": 149,
   "metadata": {},
   "outputs": [
    {
     "data": {
      "text/plain": [
       "14.704496666741852"
      ]
     },
     "execution_count": 149,
     "metadata": {},
     "output_type": "execute_result"
    }
   ],
   "source": [
    "SSR = sum(sq_differences.values())\n",
    "MSR = SSE/len(sq_differences.values())\n",
    "MSR**(1/2)"
   ]
  },
  {
   "cell_type": "code",
   "execution_count": 174,
   "metadata": {},
   "outputs": [],
   "source": [
    "def get_std(a1, a2):\n",
    "    diff = a1 - a2\n",
    "    sq_diff = diff**2\n",
    "    \n",
    "    mean = np.average(sq_diff)\n",
    "    return mean**(1/2)"
   ]
  },
  {
   "cell_type": "code",
   "execution_count": 186,
   "metadata": {},
   "outputs": [
    {
     "name": "stdout",
     "output_type": "stream",
     "text": [
      "35.184480443138064\n"
     ]
    }
   ],
   "source": [
    "import numpy as np\n",
    "in_order = np.array(range(54))\n",
    "stds = []\n",
    "for i in range(10000):\n",
    "    ranks = np.array(range(90))\n",
    "    np.random.shuffle(ranks)\n",
    "    ranks = ranks[0:54]\n",
    "    stds.append(get_std(in_order, ranks))\n",
    "print(np.average(np.array(stds)))"
   ]
  },
  {
   "cell_type": "code",
   "execution_count": 184,
   "metadata": {},
   "outputs": [
    {
     "data": {
      "text/plain": [
       "90"
      ]
     },
     "execution_count": 184,
     "metadata": {},
     "output_type": "execute_result"
    }
   ],
   "source": [
    "len(model_ranks)"
   ]
  },
  {
   "cell_type": "code",
   "execution_count": 189,
   "metadata": {},
   "outputs": [
    {
     "data": {
      "text/plain": [
       "0.16"
      ]
     },
     "execution_count": 189,
     "metadata": {},
     "output_type": "execute_result"
    }
   ],
   "source": [
    "14**2/ 35**2"
   ]
  },
  {
   "cell_type": "code",
   "execution_count": 190,
   "metadata": {},
   "outputs": [
    {
     "data": {
      "text/plain": [
       "0.84"
      ]
     },
     "execution_count": 190,
     "metadata": {},
     "output_type": "execute_result"
    }
   ],
   "source": [
    "(35**2 - 14**2)/35**2"
   ]
  },
  {
   "cell_type": "code",
   "execution_count": null,
   "metadata": {},
   "outputs": [],
   "source": []
  }
 ],
 "metadata": {
  "kernelspec": {
   "display_name": "Python 3.7.3 64-bit",
   "language": "python",
   "name": "python37364bit83672e45e57f42d584913006230dc130"
  },
  "language_info": {
   "codemirror_mode": {
    "name": "ipython",
    "version": 3
   },
   "file_extension": ".py",
   "mimetype": "text/x-python",
   "name": "python",
   "nbconvert_exporter": "python",
   "pygments_lexer": "ipython3",
   "version": "3.7.3"
  }
 },
 "nbformat": 4,
 "nbformat_minor": 4
}
